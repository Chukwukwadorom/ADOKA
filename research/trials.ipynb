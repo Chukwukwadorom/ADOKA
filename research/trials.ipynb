{
 "cells": [
  {
   "cell_type": "code",
   "execution_count": 2,
   "metadata": {},
   "outputs": [
    {
     "name": "stdout",
     "output_type": "stream",
     "text": [
      " Volume in drive C has no label.\n",
      " Volume Serial Number is C681-656F\n",
      "\n",
      " Directory of c:\\Users\\Kwado\\Desktop\\Werkzeug\\Automated-Diagnosis-of-Kidney-Abnormalities-from-Medical-Imaging-using-Machine-Learning\\research\n",
      "\n",
      "05/08/2024  04:34 PM    <DIR>          .\n",
      "05/08/2024  04:34 PM    <DIR>          ..\n",
      "05/08/2024  07:16 PM               348 trials.ipynb\n",
      "               1 File(s)            348 bytes\n",
      "               2 Dir(s)  47,459,930,112 bytes free\n"
     ]
    }
   ],
   "source": []
  },
  {
   "cell_type": "markdown",
   "metadata": {},
   "source": [
    "EXPERIMENT WITH DOWNLOAD"
   ]
  },
  {
   "cell_type": "code",
   "execution_count": 15,
   "metadata": {},
   "outputs": [],
   "source": [
    "import gdown"
   ]
  },
  {
   "cell_type": "code",
   "execution_count": 16,
   "metadata": {},
   "outputs": [],
   "source": [
    "import os\n",
    "from dotenv import load_dotenv"
   ]
  },
  {
   "cell_type": "code",
   "execution_count": 17,
   "metadata": {},
   "outputs": [],
   "source": [
    "load_dotenv()\n",
    "url = os.environ.get('SECRET_URL')"
   ]
  },
  {
   "cell_type": "code",
   "execution_count": 19,
   "metadata": {},
   "outputs": [],
   "source": [
    "data_id = url.split(\"/\")[-2]"
   ]
  },
  {
   "cell_type": "code",
   "execution_count": 12,
   "metadata": {},
   "outputs": [
    {
     "name": "stderr",
     "output_type": "stream",
     "text": [
      "Downloading...\n",
      "From (original): https://drive.google.com/uc?/export=download&id=10raYmK4JowJrgPOKhGeB0KwgoSj2YCBE\n",
      "From (redirected): https://drive.google.com/uc?%2Fexport=download&id=10raYmK4JowJrgPOKhGeB0KwgoSj2YCBE&confirm=t&uuid=e61b785c-0ae0-4279-ab73-069ca5c97162\n",
      "To: c:\\Users\\Kwado\\Desktop\\Werkzeug\\Automated-Diagnosis-of-Kidney-Abnormalities-from-Medical-Imaging-using-Machine-Learning\\research\\kidney-CT-Scan-data.zip\n",
      "100%|██████████| 1.63G/1.63G [06:59<00:00, 3.88MB/s]\n"
     ]
    },
    {
     "data": {
      "text/plain": [
       "'kidney-CT-Scan-data.zip'"
      ]
     },
     "execution_count": 12,
     "metadata": {},
     "output_type": "execute_result"
    }
   ],
   "source": [
    "prefix = 'https://drive.google.com/uc?/export=download&id='\n",
    "gdown.download(f\"{prefix}{data_id}\", \"kidney-CT-Scan-data.zip\")"
   ]
  },
  {
   "cell_type": "code",
   "execution_count": null,
   "metadata": {},
   "outputs": [],
   "source": []
  }
 ],
 "metadata": {
  "kernelspec": {
   "display_name": "kidney_diagnosis_env",
   "language": "python",
   "name": "python3"
  },
  "language_info": {
   "codemirror_mode": {
    "name": "ipython",
    "version": 3
   },
   "file_extension": ".py",
   "mimetype": "text/x-python",
   "name": "python",
   "nbconvert_exporter": "python",
   "pygments_lexer": "ipython3",
   "version": "3.9.19"
  }
 },
 "nbformat": 4,
 "nbformat_minor": 2
}

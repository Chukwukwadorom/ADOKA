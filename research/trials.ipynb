{
 "cells": [
  {
   "cell_type": "code",
   "execution_count": 1,
   "metadata": {},
   "outputs": [
    {
     "data": {
      "text/plain": [
       "7"
      ]
     },
     "execution_count": 1,
     "metadata": {},
     "output_type": "execute_result"
    }
   ],
   "source": []
  },
  {
   "cell_type": "code",
   "execution_count": 2,
   "metadata": {},
   "outputs": [
    {
     "name": "stdout",
     "output_type": "stream",
     "text": [
      " Volume in drive C has no label.\n",
      " Volume Serial Number is C681-656F\n",
      "\n",
      " Directory of c:\\Users\\Kwado\\Desktop\\Werkzeug\\Automated-Diagnosis-of-Kidney-Abnormalities-from-Medical-Imaging-using-Machine-Learning\\research\n",
      "\n",
      "05/08/2024  04:34 PM    <DIR>          .\n",
      "05/08/2024  04:34 PM    <DIR>          ..\n",
      "05/08/2024  07:16 PM               348 trials.ipynb\n",
      "               1 File(s)            348 bytes\n",
      "               2 Dir(s)  47,459,930,112 bytes free\n"
     ]
    }
   ],
   "source": []
  },
  {
   "cell_type": "code",
   "execution_count": null,
   "metadata": {},
   "outputs": [],
   "source": []
  }
 ],
 "metadata": {
  "kernelspec": {
   "display_name": "kidney_diagnosis_env",
   "language": "python",
   "name": "python3"
  },
  "language_info": {
   "codemirror_mode": {
    "name": "ipython",
    "version": 3
   },
   "file_extension": ".py",
   "mimetype": "text/x-python",
   "name": "python",
   "nbconvert_exporter": "python",
   "pygments_lexer": "ipython3",
   "version": "3.9.19"
  }
 },
 "nbformat": 4,
 "nbformat_minor": 2
}
